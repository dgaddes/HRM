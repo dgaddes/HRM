{
 "cells": [
  {
   "cell_type": "code",
   "execution_count": 16,
   "metadata": {},
   "outputs": [],
   "source": [
    "#!/usr/bin/env python3\n",
    "import os\n",
    "from os import path\n",
    "import glob\n",
    "import numpy as np\n",
    "import pandas as pd\n",
    "import matplotlib.pyplot as plt\n",
    "from scipy.signal import savgol_filter\n",
    "outpath = \"/home/dave/HRM/data/28-Feb-2019\"\n",
    "inpath = '/home/dave/HRM/data/28-Feb-2019/Wimeans_20190228T171607.txt'"
   ]
  },
  {
   "cell_type": "code",
   "execution_count": 17,
   "metadata": {},
   "outputs": [
    {
     "data": {
      "text/plain": [
       "[569, 4950, (570,), (570, 4950)]"
      ]
     },
     "execution_count": 17,
     "metadata": {},
     "output_type": "execute_result"
    }
   ],
   "source": [
    "time_series = pd.read_csv(inpath)\n",
    "X, Y = time_series.shape\n",
    "num_points = np.linspace(1, X+1, X+1, dtype = int)\n",
    "columns = np.linspace(1, Y, Y, dtype = int)\n",
    "time_series = pd.read_csv(inpath, names = columns)\n",
    "[X, Y, num_points.shape, time_series.shape]"
   ]
  },
  {
   "cell_type": "code",
   "execution_count": null,
   "metadata": {},
   "outputs": [],
   "source": [
    "import matplotlib.pyplot as plt\n",
    "plt.figure(figsize=(8, 6), dpi=80)\n",
    "# Create a new subplot from a grid of 1x1\n",
    "plt.subplot(1, 1, 1)\n",
    "\n",
    "for i in range(1,Y+1):\n",
    "    plt.plot(num_points, time_series[i], color=\"blue\", linewidth=1.0, linestyle=\"-\")\n",
    "\n",
    "plt.show()"
   ]
  },
  {
   "cell_type": "code",
   "execution_count": null,
   "metadata": {},
   "outputs": [],
   "source": [
    "np.set_printoptions(precision=2)\n",
    "plt.figure(figsize=(8, 6), dpi=80)\n",
    "plt.xlabel('Temperature (C)', fontsize=24)\n",
    "plt.ylabel('Pixel Intensity', fontsize=24)\n",
    "plt.rcParams.update({'font.size': 22})\n",
    "# Create a new subplot from a grid of 1x1\n",
    "plt.subplot(1, 1, 1)\n",
    "\n",
    "for i in range(1,Y+1):\n",
    "    plt.plot(range(1,X+2), savgol_filter(time_series[i], 31, 2), color=\"blue\", linewidth=1.0, linestyle=\"-\")\n",
    "\n",
    "plt.show()"
   ]
  },
  {
   "cell_type": "code",
   "execution_count": null,
   "metadata": {},
   "outputs": [],
   "source": [
    "diff_data = []\n",
    "\n",
    "for i in range(1,Y+1):\n",
    "    diff_data.append(-savgol_filter(np.diff(savgol_filter(time_series[i], 95, 3)), 13, 3))\n"
   ]
  },
  {
   "cell_type": "code",
   "execution_count": null,
   "metadata": {},
   "outputs": [],
   "source": [
    "#columns = np.linspace(1, X-1, X-1, dtype = int)\n",
    "diff_frame = pd.DataFrame(diff_data)\n",
    "diff_frame_trans = diff_frame.T\n",
    "# Create a new subplot from a grid of 1x1\n",
    "fig, ax = plt.subplots()\n",
    "plt.xlabel('Temperature (C)', fontsize=24)\n",
    "plt.ylabel('Differential', fontsize=24)\n",
    "plt.rcParams.update({'font.size': 16})\n",
    "\n",
    "for i in range(1,Y):\n",
    "    plt.plot(np.linspace(75.0, 99.9, X), diff_frame_trans[i], color=\"blue\", linewidth=1.0, linestyle=\"-\")\n",
    "\n",
    "plt.show()\n",
    "#fig.savefig(path.join(outpath,\"Derivative_All_Plots.png\"))"
   ]
  },
  {
   "cell_type": "code",
   "execution_count": null,
   "metadata": {},
   "outputs": [],
   "source": [
    "peaks = np.zeros((Y+1,1))\n",
    "for i in range(0,Y):\n",
    "    peaks[i, 0] = diff_frame_trans[i].idxmax()\n",
    "peaks_median = np.median(peaks)\n",
    "half_width = 20\n",
    "\n",
    "peaks = np.zeros((Y,1))\n",
    "for i in range(0,Y):\n",
    "    if diff_frame_trans[i].idxmax() > (peaks_median-half_width) and diff_frame_trans[i].idxmax() < (peaks_median+half_width) and diff_frame_trans[i].max() > 0.5:\n",
    "        peaks[i, 0] = diff_frame_trans[i].idxmax()*(92.9-75.0)/X+75.0\n",
    "    else:\n",
    "        peaks[i, 0] = float('NaN')\n",
    "peaks_median"
   ]
  },
  {
   "cell_type": "code",
   "execution_count": null,
   "metadata": {},
   "outputs": [],
   "source": [
    "fig, ax = plt.subplots()\n",
    "plt.xlabel('Tempearture (C)', fontsize=24)\n",
    "plt.ylabel('Count', fontsize=24)\n",
    "plt.rcParams.update({'font.size': 16})\n",
    "num_bins = 15\n",
    "n, bins, patches = plt.hist(peaks, num_bins, facecolor='blue', alpha=0.5,\n",
    "                           edgecolor='black', linewidth=1.2)\n",
    "plt.show()\n",
    "fig.savefig(path.join(outpath,\"Peak_Histogram.png\"))"
   ]
  },
  {
   "cell_type": "code",
   "execution_count": 19,
   "metadata": {},
   "outputs": [
    {
     "data": {
      "image/png": "[encoded data removed]",
      "text/plain": [
       "<Figure size 576x432 with 1 Axes>"
      ]
     },
     "metadata": {
      "needs_background": "light"
     },
     "output_type": "display_data"
    },
    {
     "data": {
      "text/plain": [
       "1.0"
      ]
     },
     "execution_count": 19,
     "metadata": {},
     "output_type": "execute_result"
    }
   ],
   "source": [
    "time_series_normalized = np.zeros((1,Y))\n",
    "\n",
    "for i in range(1,Y+1):\n",
    "    if (time_series.T[1][i]/time_series.T[1].max() > 0.05) and (time_series.T[1][i]/time_series.T[1].max() < 0.75):\n",
    "        time_series_normalized[0, i-1] = time_series.T[1][i]-time_series.T[1].min()\n",
    "    else:\n",
    "        time_series_normalized[0, i-1] = float('NaN')\n",
    "\n",
    "fig, ax = plt.subplots(figsize=(8, 6)) #figsize=(8, 6), dpi=300\n",
    "ax.set_xlim([0,1])\n",
    "ax.set_ylim([0,1000])\n",
    "plt.xlabel('Relative Intensity', fontsize=24)\n",
    "plt.ylabel('Count', fontsize=24)\n",
    "plt.rcParams.update({'font.size': 16})\n",
    "num_bins = 25\n",
    "n, bins, patches = plt.hist(time_series_normalized[0]/max(time_series_normalized[0]), num_bins, facecolor='blue', alpha=0.5,\n",
    "                           edgecolor='black', linewidth=1.2)\n",
    "plt.show()\n",
    "fig.savefig(path.join(outpath,\"Initial_Histogram.jpg\"))\n",
    "sum(i > 0.45 for i in time_series_normalized.T[1]/time_series_normalized.T[1].max())/len(time_series_normalized.T[1])"
   ]
  },
  {
   "cell_type": "code",
   "execution_count": null,
   "metadata": {},
   "outputs": [],
   "source": [
    "heatmap = np.reshape(peaks, (63,55)) #63,55 90,55\n",
    "\n",
    "# Plot it out\n",
    "fig, ax = plt.subplots(figsize=(8, 6))\n",
    "cmap = plt.cm.get_cmap()\n",
    "cmap=plt.cm.Reds\n",
    "cmap.set_bad(color='black')\n",
    "#heatmap = ax.pcolor(heatmap, cmap=plt.cm.Reds, alpha=0.8)\n",
    "im = plt.imshow(heatmap, cmap=cmap)\n",
    "fig.colorbar(im)\n",
    "\n",
    "# Format\n",
    "fig = plt.gcf()\n",
    "fig.set_size_inches(8, 6)\n",
    "\n",
    "# turn off the frame\n",
    "ax.set_frame_on(False)\n",
    "\n",
    "# want a more natural, table-like display\n",
    "ax.invert_yaxis()\n",
    "ax.xaxis.tick_top()\n",
    "\n",
    "# rotate the\n",
    "plt.xticks(rotation=90)\n",
    "\n",
    "ax.grid(False)\n",
    "\n",
    "# Turn off all the ticks\n",
    "ax = plt.gca()\n",
    "\n",
    "for t in ax.xaxis.get_major_ticks():\n",
    "    t.tick1On = False\n",
    "    t.tick2On = False\n",
    "for t in ax.yaxis.get_major_ticks():\n",
    "    t.tick1On = False\n",
    "    t.tick2On = False\n",
    "\n",
    "fig.savefig(path.join(outpath,\"heatmap.png\"))\n",
    "\n"
   ]
  },
  {
   "cell_type": "code",
   "execution_count": null,
   "metadata": {},
   "outputs": [],
   "source": [
    "#Stats\n",
    "\n",
    "#average value of peaks\n",
    "peak_average = round(np.average(peaks[np.logical_not(np.isnan(peaks))]),2)\n",
    "#STD value of peaks\n",
    "peak_STD = round(np.std(peaks[np.logical_not(np.isnan(peaks))]),2)\n",
    "#number of positive wells\n",
    "percent_positive = round(len(peaks[np.logical_not(np.isnan(peaks))])/len(peaks),3)\n",
    "\n",
    "[peak_average, peak_STD, percent_positive]\n",
    "\n",
    "text_file = open(\"Stats.txt\", \"w\")\n",
    "text_file.write(\"The Average Peak occurs at %f\" % peak_average)\n",
    "text_file.write(\"\\n The Standard deviation of the peaks is %f\" % peak_STD)\n",
    "text_file.write(\"\\n The pecentage of wells determined to be positive is %f\" % percent_positive)\n",
    "text_file.close()"
   ]
  },
  {
   "cell_type": "code",
   "execution_count": null,
   "metadata": {},
   "outputs": [],
   "source": [
    "double_diff_data = []\n",
    "\n",
    "for i in range(1,Y):\n",
    "    double_diff_data.append(-savgol_filter(np.diff(savgol_filter(diff_data[i], 95, 3)), 95, 2))\n",
    "\n",
    "#columns = np.linspace(1, X-1, X-1, dtype = int)\n",
    "double_diff_frame = pd.DataFrame(double_diff_data)\n",
    "double_diff_frame_trans = double_diff_frame.T\n",
    "# Create a new subplot from a grid of 1x1\n",
    "fig, ax = plt.subplots()\n",
    "plt.xlabel('Temperature (C)', fontsize=24)\n",
    "plt.ylabel('Differential', fontsize=24)\n",
    "plt.rcParams.update({'font.size': 16})\n",
    "\n",
    "for i in range(1,Y-1):\n",
    "    plt.plot(np.linspace(75.0, 99.9, X-1), double_diff_frame_trans[i], color=\"blue\", linewidth=1.0, linestyle=\"-\")\n",
    "\n",
    "plt.show()\n",
    "#fig.savefig(path.join(outpath,\"Derivative_All_Plots.png\"))"
   ]
  }
 ],
 "metadata": {
  "kernelspec": {
   "display_name": "Python 3",
   "language": "python",
   "name": "python3"
  },
  "language_info": {
   "codemirror_mode": {
    "name": "ipython",
    "version": 3
   },
   "file_extension": ".py",
   "mimetype": "text/x-python",
   "name": "python",
   "nbconvert_exporter": "python",
   "pygments_lexer": "ipython3",
   "version": "3.6.7"
  }
 },
 "nbformat": 4,
 "nbformat_minor": 2
}
